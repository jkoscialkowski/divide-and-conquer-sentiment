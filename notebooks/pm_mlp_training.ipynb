{
 "cells": [
  {
   "cell_type": "code",
   "id": "initial_id",
   "metadata": {
    "ExecuteTime": {
     "end_time": "2025-01-29T21:52:02.968634Z",
     "start_time": "2025-01-29T21:51:58.565096Z"
    }
   },
   "source": [
    "import pickle\n",
    "\n",
    "import torch\n",
    "from datasets import ClassLabel, Dataset, concatenate_datasets, load_dataset\n",
    "from transformers import pipeline\n",
    "from setfit import AbsaModel\n",
    "\n",
    "from divide_and_conquer_sentiment import PolaritySentimentModel\n",
    "from divide_and_conquer_sentiment.aggregation import MLP, MLPAggregator, SawonAggregator\n",
    "from divide_and_conquer_sentiment.dataloaders import load_kaggle_dataset\n",
    "from divide_and_conquer_sentiment.subprediction import ABSASubpredictor, ChunkSubpredictor\n",
    "from divide_and_conquer_sentiment.subprediction.sentence import Chunker\n",
    "from divide_and_conquer_sentiment.model import DACSModel\n",
    "\n",
    "from divide_and_conquer_sentiment.evaluation import (\n",
    "    model_dataset_comparison,\n",
    "    plot_metrics_per_token_count_bins,\n",
    "    simple_classification_report,\n",
    ")"
   ],
   "outputs": [],
   "execution_count": 1
  },
  {
   "cell_type": "code",
   "id": "2b432a6c063a1885",
   "metadata": {
    "ExecuteTime": {
     "end_time": "2025-01-29T21:52:08.475291Z",
     "start_time": "2025-01-29T21:52:08.435397Z"
    }
   },
   "source": [
    "%load_ext autoreload\n",
    "%autoreload 2"
   ],
   "outputs": [],
   "execution_count": 2
  },
  {
   "cell_type": "code",
   "id": "faa1e20122bf27bd",
   "metadata": {
    "ExecuteTime": {
     "end_time": "2025-01-29T21:52:09.609478Z",
     "start_time": "2025-01-29T21:52:09.578322Z"
    }
   },
   "source": [
    "TRAIN_BATCH_SIZE = 256"
   ],
   "outputs": [],
   "execution_count": 3
  },
  {
   "cell_type": "markdown",
   "id": "ff712958babaf012",
   "metadata": {},
   "source": [
    "# Read & prepare dataset\n"
   ]
  },
  {
   "cell_type": "code",
   "id": "3610118f8cad69f",
   "metadata": {
    "ExecuteTime": {
     "end_time": "2025-01-29T21:52:13.903476Z",
     "start_time": "2025-01-29T21:52:10.881964Z"
    }
   },
   "source": [
    "twitter_airlines_dataset = load_kaggle_dataset(\n",
    "    \"crowdflower/twitter-airline-sentiment\",\n",
    "    {\"text\": \"text\", \"airline_sentiment\": \"label\"},\n",
    "    val_test_perc=(0.1, 0.2),\n",
    "    seed=42,\n",
    ")"
   ],
   "outputs": [
    {
     "name": "stdout",
     "output_type": "stream",
     "text": [
      "Dataset URL: https://www.kaggle.com/datasets/crowdflower/twitter-airline-sentiment\n"
     ]
    },
    {
     "name": "stderr",
     "output_type": "stream",
     "text": [
      "/Users/pawel.marcinkowski/.pyenv/versions/venv-spacy/lib/python3.10/site-packages/kaggle/api_client.py:165: DeprecationWarning: HTTPResponse.getheaders() is deprecated and will be removed in urllib3 v2.1.0. Instead access HTTPResponse.headers directly.\n",
      "  response_data.getheaders())\n"
     ]
    },
    {
     "data": {
      "text/plain": [
       "Generating train split: 0 examples [00:00, ? examples/s]"
      ],
      "application/vnd.jupyter.widget-view+json": {
       "version_major": 2,
       "version_minor": 0,
       "model_id": "2804850ee0074108ab9090c627233572"
      }
     },
     "metadata": {},
     "output_type": "display_data"
    },
    {
     "data": {
      "text/plain": [
       "Map:   0%|          | 0/14640 [00:00<?, ? examples/s]"
      ],
      "application/vnd.jupyter.widget-view+json": {
       "version_major": 2,
       "version_minor": 0,
       "model_id": "cad53f01084a4a3e9c52eb0028dc37ef"
      }
     },
     "metadata": {},
     "output_type": "display_data"
    },
    {
     "data": {
      "text/plain": [
       "Map:   0%|          | 0/14640 [00:00<?, ? examples/s]"
      ],
      "application/vnd.jupyter.widget-view+json": {
       "version_major": 2,
       "version_minor": 0,
       "model_id": "996984077f9a404fadec1c43da9b180b"
      }
     },
     "metadata": {},
     "output_type": "display_data"
    },
    {
     "data": {
      "text/plain": [
       "Casting the dataset:   0%|          | 0/14640 [00:00<?, ? examples/s]"
      ],
      "application/vnd.jupyter.widget-view+json": {
       "version_major": 2,
       "version_minor": 0,
       "model_id": "992c9fe5425c4c349a7e68281a1edc34"
      }
     },
     "metadata": {},
     "output_type": "display_data"
    }
   ],
   "execution_count": 4
  },
  {
   "cell_type": "code",
   "id": "cc1b1e72fd962a7e",
   "metadata": {
    "ExecuteTime": {
     "end_time": "2025-01-29T21:52:17.103389Z",
     "start_time": "2025-01-29T21:52:15.825867Z"
    }
   },
   "source": [
    "amazon_headphones_dataset = load_kaggle_dataset(\n",
    "    \"mdwaquarazam/headphone-dataset-review-analysis\",\n",
    "    {\"COMMENTS\": \"text\", \"RATINGS\": \"label\"},\n",
    "    val_test_perc=(0.1, 0.2),\n",
    "    seed=42,\n",
    ")"
   ],
   "outputs": [
    {
     "name": "stdout",
     "output_type": "stream",
     "text": [
      "Dataset URL: https://www.kaggle.com/datasets/mdwaquarazam/headphone-dataset-review-analysis\n"
     ]
    },
    {
     "name": "stderr",
     "output_type": "stream",
     "text": [
      "/Users/pawel.marcinkowski/.pyenv/versions/venv-spacy/lib/python3.10/site-packages/kaggle/api_client.py:165: DeprecationWarning: HTTPResponse.getheaders() is deprecated and will be removed in urllib3 v2.1.0. Instead access HTTPResponse.headers directly.\n",
      "  response_data.getheaders())\n"
     ]
    },
    {
     "data": {
      "text/plain": [
       "Generating train split: 0 examples [00:00, ? examples/s]"
      ],
      "application/vnd.jupyter.widget-view+json": {
       "version_major": 2,
       "version_minor": 0,
       "model_id": "36de4822780e4dd68f1c39b19285422d"
      }
     },
     "metadata": {},
     "output_type": "display_data"
    },
    {
     "data": {
      "text/plain": [
       "Map:   0%|          | 0/1604 [00:00<?, ? examples/s]"
      ],
      "application/vnd.jupyter.widget-view+json": {
       "version_major": 2,
       "version_minor": 0,
       "model_id": "663881f82e154bed817f47df1537b55c"
      }
     },
     "metadata": {},
     "output_type": "display_data"
    },
    {
     "data": {
      "text/plain": [
       "Map:   0%|          | 0/1604 [00:00<?, ? examples/s]"
      ],
      "application/vnd.jupyter.widget-view+json": {
       "version_major": 2,
       "version_minor": 0,
       "model_id": "c5e721bc73694da2b10351741d0c39d3"
      }
     },
     "metadata": {},
     "output_type": "display_data"
    },
    {
     "data": {
      "text/plain": [
       "Casting the dataset:   0%|          | 0/1604 [00:00<?, ? examples/s]"
      ],
      "application/vnd.jupyter.widget-view+json": {
       "version_major": 2,
       "version_minor": 0,
       "model_id": "3540add37b1940e9887c716b03cad310"
      }
     },
     "metadata": {},
     "output_type": "display_data"
    }
   ],
   "execution_count": 5
  },
  {
   "cell_type": "code",
   "id": "209f653d6979f8f4",
   "metadata": {
    "ExecuteTime": {
     "end_time": "2025-01-29T21:52:22.663166Z",
     "start_time": "2025-01-29T21:52:20.165955Z"
    }
   },
   "source": [
    "SST_LABEL_MAP = {0: 0, 1: 0, 2: 1, 3: 2, 4: 2}\n",
    "\n",
    "\n",
    "def map_sst_label(x):\n",
    "    x[\"label\"] = SST_LABEL_MAP[x[\"label\"]]\n",
    "    return x\n",
    "\n",
    "\n",
    "sst_dataset = (\n",
    "    load_dataset(\"SetFit/sst5\")\n",
    "    .remove_columns([\"label_text\"])\n",
    "    .map(map_sst_label)\n",
    "    .cast_column(\"label\", ClassLabel(names=[\"negative\", \"neutral\", \"positive\"]))\n",
    ")"
   ],
   "outputs": [
    {
     "name": "stderr",
     "output_type": "stream",
     "text": [
      "Repo card metadata block was not found. Setting CardData to empty.\n",
      "WARNING:huggingface_hub.repocard:Repo card metadata block was not found. Setting CardData to empty.\n"
     ]
    }
   ],
   "execution_count": 6
  },
  {
   "cell_type": "code",
   "id": "be04d10a49369b91",
   "metadata": {
    "ExecuteTime": {
     "end_time": "2025-01-29T21:52:25.402601Z",
     "start_time": "2025-01-29T21:52:25.352353Z"
    }
   },
   "source": [
    "train_dataset = concatenate_datasets(\n",
    "    [twitter_airlines_dataset[\"train\"], amazon_headphones_dataset[\"train\"], sst_dataset[\"train\"]]\n",
    ")\n",
    "val_dataset = concatenate_datasets(\n",
    "    [twitter_airlines_dataset[\"val\"], amazon_headphones_dataset[\"val\"], sst_dataset[\"validation\"]]\n",
    ")\n",
    "test_dataset = concatenate_datasets(\n",
    "    [twitter_airlines_dataset[\"test\"], amazon_headphones_dataset[\"test\"], sst_dataset[\"test\"]]\n",
    ")"
   ],
   "outputs": [],
   "execution_count": 7
  },
  {
   "metadata": {
    "ExecuteTime": {
     "end_time": "2025-01-29T21:52:40.494500Z",
     "start_time": "2025-01-29T21:52:27.367822Z"
    }
   },
   "cell_type": "code",
   "source": [
    "for i in range(len(val_dataset[\"text\"])):\n",
    "    if val_dataset[\"text\"][i] == \"\":\n",
    "        print(val_dataset[i])"
   ],
   "id": "3f0a84e850d538e3",
   "outputs": [
    {
     "name": "stdout",
     "output_type": "stream",
     "text": [
      "{'text': '', 'label': 2}\n",
      "{'text': '', 'label': 0}\n",
      "{'text': '', 'label': 2}\n",
      "{'text': '', 'label': 0}\n",
      "{'text': '', 'label': 2}\n",
      "{'text': '', 'label': 2}\n"
     ]
    }
   ],
   "execution_count": 8
  },
  {
   "cell_type": "markdown",
   "id": "ab5e8cdbd19af4bf",
   "metadata": {},
   "source": [
    "\n",
    "# Train MLP on ABSA model"
   ]
  },
  {
   "cell_type": "code",
   "id": "c1b785e34467af40",
   "metadata": {},
   "source": [
    "!spacy download en_core_web_lg"
   ],
   "outputs": [],
   "execution_count": null
  },
  {
   "metadata": {},
   "cell_type": "code",
   "source": [
    "subpredictor = ABSASubpredictor.from_pretrained(\n",
    "    \"tomaarsen/setfit-absa-bge-small-en-v1.5-restaurants-aspect\",\n",
    "    \"tomaarsen/setfit-absa-bge-small-en-v1.5-restaurants-polarity\",\n",
    "    spacy_model=\"en_core_web_lg\",\n",
    ")\n",
    "mlp = MLP(input_size=4, output_size=3, hidden_layer_sizes=(128, 64), lr=0.01)\n",
    "aggregator = MLPAggregator(mlp)"
   ],
   "id": "db6031cba0d99b34",
   "outputs": [],
   "execution_count": null
  },
  {
   "cell_type": "code",
   "id": "4a8dff3dc1d7f21",
   "metadata": {},
   "source": [
    "train_subpreds = subpredictor.predict(train_dataset[\"text\"])\n",
    "val_subpreds = subpredictor.predict(val_dataset[\"text\"])"
   ],
   "outputs": [],
   "execution_count": null
  },
  {
   "cell_type": "code",
   "id": "b82b385f-a2d7-46c1-bfe1-7828eb7e016e",
   "metadata": {},
   "source": [
    "train_dataset = concatenate_datasets([train_dataset, Dataset.from_dict({\"subpreds\": train_subpreds})], axis=1)\n",
    "val_dataset = concatenate_datasets([val_dataset, Dataset.from_dict({\"subpreds\": val_subpreds})], axis=1)"
   ],
   "outputs": [],
   "execution_count": null
  },
  {
   "cell_type": "code",
   "id": "86f31192-887f-4c64-b414-250ce05e148b",
   "metadata": {},
   "source": [
    "with open(\"train_dataset_subpreds.pkl\", \"wb\") as handle:\n",
    "    pickle.dump(train_dataset, handle)\n",
    "\n",
    "with open(\"val_dataset_subpreds.pkl\", \"wb\") as handle:\n",
    "    pickle.dump(val_dataset, handle)"
   ],
   "outputs": [],
   "execution_count": null
  },
  {
   "cell_type": "code",
   "id": "4a2bf7a4293776e7",
   "metadata": {},
   "source": [
    "with open(\"train_dataset_subpreds.pkl\", \"rb\") as handle:\n",
    "    train_dataset = pickle.load(handle).with_format(\"torch\")\n",
    "\n",
    "with open(\"val_dataset_subpreds.pkl\", \"rb\") as handle:\n",
    "    val_dataset = pickle.load(handle).with_format(\"torch\")"
   ],
   "outputs": [],
   "execution_count": null
  },
  {
   "cell_type": "code",
   "id": "274a9511d286d246",
   "metadata": {},
   "source": [
    "aggregator.train(train_dataset, val_dataset)"
   ],
   "outputs": [],
   "execution_count": null
  },
  {
   "metadata": {},
   "cell_type": "markdown",
   "source": "# Calc SAWON",
   "id": "8e024301c4bf1972"
  },
  {
   "metadata": {},
   "cell_type": "markdown",
   "source": "## Train",
   "id": "d5af5bed552692e5"
  },
  {
   "metadata": {
    "ExecuteTime": {
     "end_time": "2025-01-29T21:54:21.255307Z",
     "start_time": "2025-01-29T21:53:57.921450Z"
    }
   },
   "cell_type": "code",
   "source": "!spacy download en_core_web_lg",
   "id": "e3b5ddb17a70fd93",
   "outputs": [
    {
     "name": "stdout",
     "output_type": "stream",
     "text": [
      "Collecting en-core-web-lg==3.8.0\r\n",
      "  Downloading https://github.com/explosion/spacy-models/releases/download/en_core_web_lg-3.8.0/en_core_web_lg-3.8.0-py3-none-any.whl (400.7 MB)\r\n",
      "\u001B[2K     \u001B[90m━━━━━━━━━━━━━━━━━━━━━━━━━━━━━━━━━━━━━━━\u001B[0m \u001B[32m400.7/400.7 MB\u001B[0m \u001B[31m6.5 MB/s\u001B[0m eta \u001B[36m0:00:00\u001B[0m00:01\u001B[0m00:01\u001B[0m\r\n",
      "\u001B[?25h\r\n",
      "\u001B[1m[\u001B[0m\u001B[34;49mnotice\u001B[0m\u001B[1;39;49m]\u001B[0m\u001B[39;49m A new release of pip is available: \u001B[0m\u001B[31;49m23.0.1\u001B[0m\u001B[39;49m -> \u001B[0m\u001B[32;49m25.0\u001B[0m\r\n",
      "\u001B[1m[\u001B[0m\u001B[34;49mnotice\u001B[0m\u001B[1;39;49m]\u001B[0m\u001B[39;49m To update, run: \u001B[0m\u001B[32;49mpip install --upgrade pip\u001B[0m\r\n",
      "\u001B[38;5;2m✔ Download and installation successful\u001B[0m\r\n",
      "You can now load the package via spacy.load('en_core_web_lg')\r\n"
     ]
    }
   ],
   "execution_count": 9
  },
  {
   "metadata": {
    "ExecuteTime": {
     "end_time": "2025-01-29T21:54:34.556223Z",
     "start_time": "2025-01-29T21:54:24.335436Z"
    }
   },
   "cell_type": "code",
   "source": [
    "polarity_model = AbsaModel.from_pretrained(\n",
    "    \"tomaarsen/setfit-absa-bge-small-en-v1.5-restaurants-polarity\",\n",
    "    spacy_model=\"en_core_web_lg\",\n",
    ").polarity_model"
   ],
   "id": "8c0bf0c1460aa80e",
   "outputs": [
    {
     "name": "stderr",
     "output_type": "stream",
     "text": [
      "INFO:sentence_transformers.SentenceTransformer:Use pytorch device_name: mps\n",
      "INFO:sentence_transformers.SentenceTransformer:Load pretrained SentenceTransformer: tomaarsen/setfit-absa-bge-small-en-v1.5-restaurants-polarity\n",
      "Overriding labels in model configuration from None to ['no aspect', 'aspect'].\n",
      "/Users/pawel.marcinkowski/.pyenv/versions/venv-spacy/lib/python3.10/site-packages/sklearn/base.py:380: InconsistentVersionWarning: Trying to unpickle estimator LogisticRegression from version 1.3.2 when using version 1.6.0. This might lead to breaking code or invalid results. Use at your own risk. For more info please refer to:\n",
      "https://scikit-learn.org/stable/model_persistence.html#security-maintainability-limitations\n",
      "  warnings.warn(\n",
      "INFO:sentence_transformers.SentenceTransformer:Use pytorch device_name: mps\n",
      "INFO:sentence_transformers.SentenceTransformer:Load pretrained SentenceTransformer: tomaarsen/setfit-absa-bge-small-en-v1.5-restaurants-polarity\n"
     ]
    }
   ],
   "execution_count": 10
  },
  {
   "metadata": {
    "ExecuteTime": {
     "end_time": "2025-02-01T22:21:32.278692Z",
     "start_time": "2025-02-01T22:21:31.864166Z"
    }
   },
   "cell_type": "code",
   "source": "polarity_sentiment_model = PolaritySentimentModel(polarity_model)",
   "id": "5010cdf75e295f55",
   "outputs": [],
   "execution_count": 49
  },
  {
   "metadata": {
    "ExecuteTime": {
     "end_time": "2025-02-01T22:21:36.321177Z",
     "start_time": "2025-02-01T22:21:35.836247Z"
    }
   },
   "cell_type": "code",
   "source": [
    "chunker = Chunker()\n",
    "sentence_subpredictor = ChunkSubpredictor(chunker, polarity_sentiment_model)"
   ],
   "id": "cd52fd5a3757daf3",
   "outputs": [],
   "execution_count": 50
  },
  {
   "metadata": {
    "ExecuteTime": {
     "end_time": "2025-02-01T23:09:10.304410Z",
     "start_time": "2025-02-01T22:48:37.486133Z"
    }
   },
   "cell_type": "code",
   "source": "sentences_train_subpreds = sentence_subpredictor.predict(train_dataset[\"text\"])",
   "id": "8a8346a1856d748a",
   "outputs": [
    {
     "name": "stdout",
     "output_type": "stream",
     "text": [
      "WARNING, For text: , splitting into sentences failed. Returned list with 1 empty string\n",
      "WARNING, For text: , splitting into sentences failed. Returned list with 1 empty string\n",
      "WARNING, For text: , splitting into sentences failed. Returned list with 1 empty string\n",
      "WARNING, For text: , splitting into sentences failed. Returned list with 1 empty string\n",
      "WARNING, For text: , splitting into sentences failed. Returned list with 1 empty string\n",
      "WARNING, For text: , splitting into sentences failed. Returned list with 1 empty string\n",
      "WARNING, For text: , splitting into sentences failed. Returned list with 1 empty string\n",
      "WARNING, For text: , splitting into sentences failed. Returned list with 1 empty string\n",
      "WARNING, For text: , splitting into sentences failed. Returned list with 1 empty string\n",
      "WARNING, For text: , splitting into sentences failed. Returned list with 1 empty string\n",
      "WARNING, For text: , splitting into sentences failed. Returned list with 1 empty string\n",
      "WARNING, For text: , splitting into sentences failed. Returned list with 1 empty string\n",
      "WARNING, For text: , splitting into sentences failed. Returned list with 1 empty string\n",
      "WARNING, For text: , splitting into sentences failed. Returned list with 1 empty string\n",
      "WARNING, For text: , splitting into sentences failed. Returned list with 1 empty string\n",
      "WARNING, For text: , splitting into sentences failed. Returned list with 1 empty string\n",
      "WARNING, For text: , splitting into sentences failed. Returned list with 1 empty string\n",
      "WARNING, For text: , splitting into sentences failed. Returned list with 1 empty string\n",
      "WARNING, For text: , splitting into sentences failed. Returned list with 1 empty string\n",
      "WARNING, For text: , splitting into sentences failed. Returned list with 1 empty string\n",
      "WARNING, For text: , splitting into sentences failed. Returned list with 1 empty string\n",
      "WARNING, For text: , splitting into sentences failed. Returned list with 1 empty string\n",
      "WARNING, For text: , splitting into sentences failed. Returned list with 1 empty string\n",
      "WARNING, For text: , splitting into sentences failed. Returned list with 1 empty string\n",
      "WARNING, For text: , splitting into sentences failed. Returned list with 1 empty string\n",
      "WARNING, For text: , splitting into sentences failed. Returned list with 1 empty string\n",
      "WARNING, For text: , splitting into sentences failed. Returned list with 1 empty string\n",
      "WARNING, For text: , splitting into sentences failed. Returned list with 1 empty string\n",
      "WARNING, For text: , splitting into sentences failed. Returned list with 1 empty string\n",
      "WARNING, For text: , splitting into sentences failed. Returned list with 1 empty string\n",
      "WARNING, For text: , splitting into sentences failed. Returned list with 1 empty string\n",
      "WARNING, For text: , splitting into sentences failed. Returned list with 1 empty string\n",
      "WARNING, For text: , splitting into sentences failed. Returned list with 1 empty string\n",
      "WARNING, For text: , splitting into sentences failed. Returned list with 1 empty string\n",
      "WARNING, For text: , splitting into sentences failed. Returned list with 1 empty string\n",
      "WARNING, For text: , splitting into sentences failed. Returned list with 1 empty string\n",
      "WARNING, For text: , splitting into sentences failed. Returned list with 1 empty string\n",
      "WARNING, For text: , splitting into sentences failed. Returned list with 1 empty string\n",
      "WARNING, For text: , splitting into sentences failed. Returned list with 1 empty string\n",
      "WARNING, For text: , splitting into sentences failed. Returned list with 1 empty string\n"
     ]
    }
   ],
   "execution_count": 62
  },
  {
   "metadata": {
    "ExecuteTime": {
     "end_time": "2025-02-01T22:24:42.306723Z",
     "start_time": "2025-02-01T22:21:47.146093Z"
    }
   },
   "cell_type": "code",
   "source": "sentences_val_subpreds = sentence_subpredictor.predict(val_dataset[\"text\"])",
   "id": "86c9b12f9ce2a6ef",
   "outputs": [
    {
     "name": "stdout",
     "output_type": "stream",
     "text": [
      "WARNING, For text: , splitting into sentences failed. Returned list with 1 empty string\n",
      "WARNING, For text: , splitting into sentences failed. Returned list with 1 empty string\n",
      "WARNING, For text: , splitting into sentences failed. Returned list with 1 empty string\n",
      "WARNING, For text: , splitting into sentences failed. Returned list with 1 empty string\n",
      "WARNING, For text: , splitting into sentences failed. Returned list with 1 empty string\n",
      "WARNING, For text: , splitting into sentences failed. Returned list with 1 empty string\n"
     ]
    }
   ],
   "execution_count": 51
  },
  {
   "metadata": {
    "ExecuteTime": {
     "end_time": "2025-01-29T22:13:43.500047Z",
     "start_time": "2025-01-29T22:13:42.519301Z"
    }
   },
   "cell_type": "code",
   "source": [
    "with open(\"sentences_train_subpreds.pkl\", \"wb\") as handle:\n",
    "    pickle.dump(sentences_train_subpreds, handle)\n",
    "\n",
    "with open(\"sentences_val_subpreds.pkl\", \"wb\") as handle:\n",
    "    pickle.dump(sentences_val_subpreds, handle)"
   ],
   "id": "8ab7aa46a4d2e351",
   "outputs": [],
   "execution_count": 15
  },
  {
   "metadata": {
    "ExecuteTime": {
     "end_time": "2025-02-01T22:28:43.112241Z",
     "start_time": "2025-02-01T22:28:43.049555Z"
    }
   },
   "cell_type": "code",
   "source": "sawon = SawonAggregator(polarity_sentiment_model,0.9)",
   "id": "81b63d5a92aba0df",
   "outputs": [],
   "execution_count": 52
  },
  {
   "metadata": {
    "ExecuteTime": {
     "end_time": "2025-02-01T22:28:51.708636Z",
     "start_time": "2025-02-01T22:28:44.022995Z"
    }
   },
   "cell_type": "code",
   "source": [
    "#sawon_train_proba = sawon.aggregate(sentences_train_subpreds, passages =  train_dataset[\"text\"])\n",
    "sawon_val_proba = sawon.aggregate(sentences_val_subpreds, passages = val_dataset[\"text\"])"
   ],
   "id": "b3e8f332f68edb80",
   "outputs": [],
   "execution_count": 53
  },
  {
   "metadata": {
    "ExecuteTime": {
     "end_time": "2025-02-01T22:28:55.289839Z",
     "start_time": "2025-02-01T22:28:55.248163Z"
    }
   },
   "cell_type": "code",
   "source": "sawon_val_preds = sawon.classify(sawon_val_proba)",
   "id": "7c3a54eb8a7e4904",
   "outputs": [],
   "execution_count": 54
  },
  {
   "metadata": {
    "ExecuteTime": {
     "end_time": "2025-02-01T23:12:34.375511Z",
     "start_time": "2025-02-01T23:12:34.259383Z"
    }
   },
   "cell_type": "code",
   "source": "print(simple_classification_report(val_dataset[\"label\"], sawon_val_preds))",
   "id": "ee60e67c24bbb188",
   "outputs": [
    {
     "name": "stdout",
     "output_type": "stream",
     "text": [
      "              precision    recall  f1-score   support\n",
      "\n",
      "    negative       0.84      0.55      0.67      1378\n",
      "     neutral       0.31      0.25      0.28       557\n",
      "    positive       0.54      0.94      0.68       791\n",
      "\n",
      "    accuracy                           0.60      2726\n",
      "   macro avg       0.56      0.58      0.54      2726\n",
      "weighted avg       0.64      0.60      0.59      2726\n",
      "\n"
     ]
    }
   ],
   "execution_count": 63
  },
  {
   "metadata": {},
   "cell_type": "markdown",
   "source": "## Evaluate",
   "id": "8104220fb0f310db"
  },
  {
   "metadata": {
    "ExecuteTime": {
     "end_time": "2025-02-01T22:29:51.976630Z",
     "start_time": "2025-02-01T22:29:51.898728Z"
    }
   },
   "cell_type": "code",
   "source": "dacs_sawon = DACSModel(sentence_subpredictor, sawon)",
   "id": "725168f213e55714",
   "outputs": [],
   "execution_count": 57
  },
  {
   "metadata": {
    "ExecuteTime": {
     "end_time": "2025-02-01T22:37:03.134872Z",
     "start_time": "2025-02-01T22:31:01.030909Z"
    }
   },
   "cell_type": "code",
   "source": [
    "twitter_test_dacs_sawon_preds = dacs_sawon.classify(twitter_airlines_dataset[\"test\"][\"text\"], passages =  twitter_airlines_dataset[\"test\"][\"text\"])\n",
    "amazon_test_dacs_sawon_preds = dacs_sawon.classify(amazon_headphones_dataset[\"test\"][\"text\"], passages =  amazon_headphones_dataset[\"test\"][\"text\"])\n",
    "sst_test_dacs_sawon_preds = dacs_sawon.classify(sst_dataset[\"test\"][\"text\"], passages =  sst_dataset[\"test\"][\"text\"])"
   ],
   "id": "c67d2e724b54ccb0",
   "outputs": [
    {
     "name": "stdout",
     "output_type": "stream",
     "text": [
      "WARNING, For text: , splitting into sentences failed. Returned list with 1 empty string\n",
      "WARNING, For text: , splitting into sentences failed. Returned list with 1 empty string\n",
      "WARNING, For text: , splitting into sentences failed. Returned list with 1 empty string\n",
      "WARNING, For text: , splitting into sentences failed. Returned list with 1 empty string\n",
      "WARNING, For text: , splitting into sentences failed. Returned list with 1 empty string\n",
      "WARNING, For text: , splitting into sentences failed. Returned list with 1 empty string\n",
      "WARNING, For text: , splitting into sentences failed. Returned list with 1 empty string\n",
      "WARNING, For text: , splitting into sentences failed. Returned list with 1 empty string\n",
      "WARNING, For text: , splitting into sentences failed. Returned list with 1 empty string\n",
      "WARNING, For text: , splitting into sentences failed. Returned list with 1 empty string\n",
      "WARNING, For text: , splitting into sentences failed. Returned list with 1 empty string\n",
      "WARNING, For text: , splitting into sentences failed. Returned list with 1 empty string\n"
     ]
    }
   ],
   "execution_count": 59
  },
  {
   "metadata": {
    "ExecuteTime": {
     "end_time": "2025-01-19T23:52:26.659294Z",
     "start_time": "2025-01-19T23:52:26.394499Z"
    }
   },
   "cell_type": "code",
   "source": "type(twitter_airlines_dataset[\"test\"][\"label\"][0])",
   "id": "b5c7f99fdfb9346b",
   "outputs": [
    {
     "data": {
      "text/plain": [
       "int"
      ]
     },
     "execution_count": 27,
     "metadata": {},
     "output_type": "execute_result"
    }
   ],
   "execution_count": 27
  },
  {
   "metadata": {
    "ExecuteTime": {
     "end_time": "2025-02-01T22:44:30.022975Z",
     "start_time": "2025-02-01T22:44:29.902367Z"
    }
   },
   "cell_type": "code",
   "source": [
    "print (\"Classification report for twitter airlines dataset:\")\n",
    "print(simple_classification_report(twitter_airlines_dataset[\"test\"][\"label\"], twitter_test_dacs_sawon_preds))\n",
    "print (\"Classification report for amazon headphones dataset:\")\n",
    "print(simple_classification_report(amazon_headphones_dataset[\"test\"][\"label\"], amazon_test_dacs_sawon_preds))\n",
    "print (\"Classification report for sst dataset:\")\n",
    "print(simple_classification_report(sst_dataset[\"test\"][\"label\"], sst_test_dacs_sawon_preds))"
   ],
   "id": "b91de67f61293dd5",
   "outputs": [
    {
     "name": "stdout",
     "output_type": "stream",
     "text": [
      "Classification report for twitter airlines dataset:\n",
      "              precision    recall  f1-score   support\n",
      "\n",
      "    negative       0.92      0.46      0.62      1893\n",
      "     neutral       0.29      0.42      0.34       615\n",
      "    positive       0.36      0.95      0.53       420\n",
      "\n",
      "    accuracy                           0.52      2928\n",
      "   macro avg       0.53      0.61      0.50      2928\n",
      "weighted avg       0.71      0.52      0.55      2928\n",
      "\n",
      "Classification report for amazon headphones dataset:\n",
      "              precision    recall  f1-score   support\n",
      "\n",
      "    negative       0.81      0.78      0.79       112\n",
      "     neutral       0.11      0.04      0.05        28\n",
      "    positive       0.84      0.95      0.89       181\n",
      "\n",
      "    accuracy                           0.81       321\n",
      "   macro avg       0.59      0.59      0.58       321\n",
      "weighted avg       0.77      0.81      0.78       321\n",
      "\n",
      "Classification report for sst dataset:\n",
      "              precision    recall  f1-score   support\n",
      "\n",
      "    negative       0.80      0.69      0.74       912\n",
      "     neutral       0.43      0.05      0.09       389\n",
      "    positive       0.63      0.95      0.76       909\n",
      "\n",
      "    accuracy                           0.68      2210\n",
      "   macro avg       0.62      0.56      0.53      2210\n",
      "weighted avg       0.66      0.68      0.63      2210\n",
      "\n"
     ]
    }
   ],
   "execution_count": 61
  },
  {
   "metadata": {},
   "cell_type": "markdown",
   "source": "# Train MLP on sentences",
   "id": "a23f465ab9f17345"
  },
  {
   "metadata": {
    "ExecuteTime": {
     "end_time": "2025-02-01T23:12:42.135981Z",
     "start_time": "2025-02-01T23:12:42.060471Z"
    }
   },
   "cell_type": "code",
   "source": [
    "mlp_sentences = MLP(input_size=3, output_size=3, hidden_layer_sizes=(128, 64), lr=0.01)\n",
    "mlp_aggregator_sentences = MLPAggregator(mlp_sentences)"
   ],
   "id": "a9b4a95d89c46de7",
   "outputs": [
    {
     "name": "stderr",
     "output_type": "stream",
     "text": [
      "GPU available: True (mps), used: True\n",
      "TPU available: False, using: 0 TPU cores\n",
      "HPU available: False, using: 0 HPUs\n",
      "/Users/pawel.marcinkowski/.pyenv/versions/venv-spacy/lib/python3.10/site-packages/lightning/pytorch/trainer/connectors/logger_connector/logger_connector.py:76: Starting from v1.9.0, `tensorboardX` has been removed as a dependency of the `lightning.pytorch` package, due to potential conflicts with other packages in the ML ecosystem. For this reason, `logger=True` will use `CSVLogger` as the default logger, unless the `tensorboard` or `tensorboardX` packages are found. Please `pip install lightning[extra]` or one of them to enable TensorBoard support by default\n"
     ]
    }
   ],
   "execution_count": 64
  },
  {
   "metadata": {
    "ExecuteTime": {
     "end_time": "2025-02-01T23:12:57.845750Z",
     "start_time": "2025-02-01T23:12:56.959261Z"
    }
   },
   "cell_type": "code",
   "source": [
    "train_sentences_dataset = concatenate_datasets([train_dataset, Dataset.from_dict({\"subpreds\": sentences_train_subpreds})], axis=1)\n",
    "val_sentences_dataset = concatenate_datasets([val_dataset, Dataset.from_dict({\"subpreds\": sentences_val_subpreds})], axis=1)"
   ],
   "id": "bd2b30fba7b1a544",
   "outputs": [
    {
     "data": {
      "text/plain": [
       "Flattening the indices:   0%|          | 0/19914 [00:00<?, ? examples/s]"
      ],
      "application/vnd.jupyter.widget-view+json": {
       "version_major": 2,
       "version_minor": 0,
       "model_id": "00a451f01ea3492b950eaaa6508d0572"
      }
     },
     "metadata": {},
     "output_type": "display_data"
    },
    {
     "data": {
      "text/plain": [
       "Flattening the indices:   0%|          | 0/19914 [00:00<?, ? examples/s]"
      ],
      "application/vnd.jupyter.widget-view+json": {
       "version_major": 2,
       "version_minor": 0,
       "model_id": "7a415d8379624321a5d78bf86bcf3256"
      }
     },
     "metadata": {},
     "output_type": "display_data"
    },
    {
     "data": {
      "text/plain": [
       "Flattening the indices:   0%|          | 0/2726 [00:00<?, ? examples/s]"
      ],
      "application/vnd.jupyter.widget-view+json": {
       "version_major": 2,
       "version_minor": 0,
       "model_id": "e0b8c65651f94811aaedec99dca33f13"
      }
     },
     "metadata": {},
     "output_type": "display_data"
    },
    {
     "data": {
      "text/plain": [
       "Flattening the indices:   0%|          | 0/2726 [00:00<?, ? examples/s]"
      ],
      "application/vnd.jupyter.widget-view+json": {
       "version_major": 2,
       "version_minor": 0,
       "model_id": "504f2d142e0f459e9201df96979b7e00"
      }
     },
     "metadata": {},
     "output_type": "display_data"
    }
   ],
   "execution_count": 65
  },
  {
   "metadata": {
    "ExecuteTime": {
     "end_time": "2025-02-01T23:22:25.253419Z",
     "start_time": "2025-02-01T23:13:04.829824Z"
    }
   },
   "cell_type": "code",
   "source": "mlp_aggregator_sentences.train(train_sentences_dataset, val_sentences_dataset)",
   "id": "d27d9634f500240c",
   "outputs": [
    {
     "name": "stderr",
     "output_type": "stream",
     "text": [
      "/Users/pawel.marcinkowski/.pyenv/versions/venv-spacy/lib/python3.10/site-packages/lightning/pytorch/loops/utilities.py:73: `max_epochs` was not set. Setting it to 1000 epochs. To train without an epoch limit, set `max_epochs=-1`.\n",
      "\n",
      "  | Name   | Type       | Params | Mode \n",
      "----------------------------------------------\n",
      "0 | layers | ModuleList | 10.6 K | train\n",
      "----------------------------------------------\n",
      "10.6 K    Trainable params\n",
      "0         Non-trainable params\n",
      "10.6 K    Total params\n",
      "0.043     Total estimated model params size (MB)\n",
      "4         Modules in train mode\n",
      "0         Modules in eval mode\n"
     ]
    },
    {
     "data": {
      "text/plain": [
       "Sanity Checking: |          | 0/? [00:00<?, ?it/s]"
      ],
      "application/vnd.jupyter.widget-view+json": {
       "version_major": 2,
       "version_minor": 0,
       "model_id": "493a205d82b74782863fa0956b0fd925"
      }
     },
     "metadata": {},
     "output_type": "display_data"
    },
    {
     "name": "stderr",
     "output_type": "stream",
     "text": [
      "/Users/pawel.marcinkowski/.pyenv/versions/venv-spacy/lib/python3.10/site-packages/lightning/pytorch/trainer/connectors/data_connector.py:425: The 'val_dataloader' does not have many workers which may be a bottleneck. Consider increasing the value of the `num_workers` argument` to `num_workers=9` in the `DataLoader` to improve performance.\n",
      "/Users/pawel.marcinkowski/.pyenv/versions/venv-spacy/lib/python3.10/site-packages/lightning/pytorch/trainer/connectors/data_connector.py:425: The 'train_dataloader' does not have many workers which may be a bottleneck. Consider increasing the value of the `num_workers` argument` to `num_workers=9` in the `DataLoader` to improve performance.\n"
     ]
    },
    {
     "data": {
      "text/plain": [
       "Training: |          | 0/? [00:00<?, ?it/s]"
      ],
      "application/vnd.jupyter.widget-view+json": {
       "version_major": 2,
       "version_minor": 0,
       "model_id": "8061dbd3b9fe4bfda3aaf9564a7d4d83"
      }
     },
     "metadata": {},
     "output_type": "display_data"
    },
    {
     "data": {
      "text/plain": [
       "Validation: |          | 0/? [00:00<?, ?it/s]"
      ],
      "application/vnd.jupyter.widget-view+json": {
       "version_major": 2,
       "version_minor": 0,
       "model_id": "e6ca4015a4044031996d157d5efd94b2"
      }
     },
     "metadata": {},
     "output_type": "display_data"
    },
    {
     "data": {
      "text/plain": [
       "Validation: |          | 0/? [00:00<?, ?it/s]"
      ],
      "application/vnd.jupyter.widget-view+json": {
       "version_major": 2,
       "version_minor": 0,
       "model_id": "8382ff916ac64ce5adf59144dbb69542"
      }
     },
     "metadata": {},
     "output_type": "display_data"
    },
    {
     "data": {
      "text/plain": [
       "Validation: |          | 0/? [00:00<?, ?it/s]"
      ],
      "application/vnd.jupyter.widget-view+json": {
       "version_major": 2,
       "version_minor": 0,
       "model_id": "2374d2f2fd06455a8ba6ad9722b4937d"
      }
     },
     "metadata": {},
     "output_type": "display_data"
    },
    {
     "data": {
      "text/plain": [
       "Validation: |          | 0/? [00:00<?, ?it/s]"
      ],
      "application/vnd.jupyter.widget-view+json": {
       "version_major": 2,
       "version_minor": 0,
       "model_id": "6ed8d56c10f94df5a54bbe4374051d50"
      }
     },
     "metadata": {},
     "output_type": "display_data"
    },
    {
     "data": {
      "text/plain": [
       "Validation: |          | 0/? [00:00<?, ?it/s]"
      ],
      "application/vnd.jupyter.widget-view+json": {
       "version_major": 2,
       "version_minor": 0,
       "model_id": "bfe48657fac443dab699ecc44d6161f6"
      }
     },
     "metadata": {},
     "output_type": "display_data"
    },
    {
     "data": {
      "text/plain": [
       "Validation: |          | 0/? [00:00<?, ?it/s]"
      ],
      "application/vnd.jupyter.widget-view+json": {
       "version_major": 2,
       "version_minor": 0,
       "model_id": "209b186478384ee7bf90f84b3f1037a2"
      }
     },
     "metadata": {},
     "output_type": "display_data"
    },
    {
     "data": {
      "text/plain": [
       "Validation: |          | 0/? [00:00<?, ?it/s]"
      ],
      "application/vnd.jupyter.widget-view+json": {
       "version_major": 2,
       "version_minor": 0,
       "model_id": "552c35cdeacc49f1a5f8fb7ed3798cda"
      }
     },
     "metadata": {},
     "output_type": "display_data"
    },
    {
     "data": {
      "text/plain": [
       "Validation: |          | 0/? [00:00<?, ?it/s]"
      ],
      "application/vnd.jupyter.widget-view+json": {
       "version_major": 2,
       "version_minor": 0,
       "model_id": "ee1aa06b993f4b64bb1803fc1fd99e3f"
      }
     },
     "metadata": {},
     "output_type": "display_data"
    },
    {
     "data": {
      "text/plain": [
       "Validation: |          | 0/? [00:00<?, ?it/s]"
      ],
      "application/vnd.jupyter.widget-view+json": {
       "version_major": 2,
       "version_minor": 0,
       "model_id": "ffe63bc57cc34c3e9100bd83726ca623"
      }
     },
     "metadata": {},
     "output_type": "display_data"
    },
    {
     "data": {
      "text/plain": [
       "Validation: |          | 0/? [00:00<?, ?it/s]"
      ],
      "application/vnd.jupyter.widget-view+json": {
       "version_major": 2,
       "version_minor": 0,
       "model_id": "6c13ac8bdf17417a9b57cf66ed444da4"
      }
     },
     "metadata": {},
     "output_type": "display_data"
    },
    {
     "data": {
      "text/plain": [
       "Validation: |          | 0/? [00:00<?, ?it/s]"
      ],
      "application/vnd.jupyter.widget-view+json": {
       "version_major": 2,
       "version_minor": 0,
       "model_id": "4f1a307dca4f457c8cab3552ab60d7c5"
      }
     },
     "metadata": {},
     "output_type": "display_data"
    },
    {
     "data": {
      "text/plain": [
       "Validation: |          | 0/? [00:00<?, ?it/s]"
      ],
      "application/vnd.jupyter.widget-view+json": {
       "version_major": 2,
       "version_minor": 0,
       "model_id": "301b242085f949ffb7b6aabff105d26d"
      }
     },
     "metadata": {},
     "output_type": "display_data"
    },
    {
     "data": {
      "text/plain": [
       "Validation: |          | 0/? [00:00<?, ?it/s]"
      ],
      "application/vnd.jupyter.widget-view+json": {
       "version_major": 2,
       "version_minor": 0,
       "model_id": "e47532469cbe4dc1bee0cbe8745dc39e"
      }
     },
     "metadata": {},
     "output_type": "display_data"
    },
    {
     "data": {
      "text/plain": [
       "Validation: |          | 0/? [00:00<?, ?it/s]"
      ],
      "application/vnd.jupyter.widget-view+json": {
       "version_major": 2,
       "version_minor": 0,
       "model_id": "6c8a01bc5d97417980b3018a6320bad2"
      }
     },
     "metadata": {},
     "output_type": "display_data"
    },
    {
     "data": {
      "text/plain": [
       "Validation: |          | 0/? [00:00<?, ?it/s]"
      ],
      "application/vnd.jupyter.widget-view+json": {
       "version_major": 2,
       "version_minor": 0,
       "model_id": "ff42749d060e42ce9134198d90b7e51e"
      }
     },
     "metadata": {},
     "output_type": "display_data"
    },
    {
     "data": {
      "text/plain": [
       "Validation: |          | 0/? [00:00<?, ?it/s]"
      ],
      "application/vnd.jupyter.widget-view+json": {
       "version_major": 2,
       "version_minor": 0,
       "model_id": "51b9d6f843eb488a99d5938674ee5511"
      }
     },
     "metadata": {},
     "output_type": "display_data"
    },
    {
     "data": {
      "text/plain": [
       "Validation: |          | 0/? [00:00<?, ?it/s]"
      ],
      "application/vnd.jupyter.widget-view+json": {
       "version_major": 2,
       "version_minor": 0,
       "model_id": "824c6b3aebc642bea648aa5dc27f0c4f"
      }
     },
     "metadata": {},
     "output_type": "display_data"
    },
    {
     "data": {
      "text/plain": [
       "Validation: |          | 0/? [00:00<?, ?it/s]"
      ],
      "application/vnd.jupyter.widget-view+json": {
       "version_major": 2,
       "version_minor": 0,
       "model_id": "098baac403904153afce217b4f20beab"
      }
     },
     "metadata": {},
     "output_type": "display_data"
    }
   ],
   "execution_count": 66
  },
  {
   "metadata": {},
   "cell_type": "markdown",
   "source": "## Evaluate",
   "id": "199198e8333f8bb2"
  },
  {
   "metadata": {},
   "cell_type": "code",
   "outputs": [],
   "execution_count": null,
   "source": "",
   "id": "c855f8c7949c1a64"
  }
 ],
 "metadata": {
  "kernelspec": {
   "display_name": "Python 3 (ipykernel)",
   "language": "python",
   "name": "python3"
  },
  "language_info": {
   "codemirror_mode": {
    "name": "ipython",
    "version": 3
   },
   "file_extension": ".py",
   "mimetype": "text/x-python",
   "name": "python",
   "nbconvert_exporter": "python",
   "pygments_lexer": "ipython3",
   "version": "3.10.15"
  }
 },
 "nbformat": 4,
 "nbformat_minor": 5
}
