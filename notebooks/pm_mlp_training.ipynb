{
 "cells": [
  {
   "cell_type": "code",
   "id": "initial_id",
   "metadata": {
    "ExecuteTime": {
     "end_time": "2025-01-19T23:04:59.148713Z",
     "start_time": "2025-01-19T23:04:58.901182Z"
    }
   },
   "source": [
    "import pickle\n",
    "\n",
    "import torch\n",
    "from datasets import ClassLabel, Dataset, concatenate_datasets, load_dataset\n",
    "from transformers import pipeline\n",
    "from setfit import AbsaModel\n",
    "\n",
    "from divide_and_conquer_sentiment import PolaritySentimentModel\n",
    "from divide_and_conquer_sentiment.aggregation import MLP, MLPAggregator, SawonAggregator\n",
    "from divide_and_conquer_sentiment.dataloaders import load_kaggle_dataset\n",
    "from divide_and_conquer_sentiment.subprediction import ABSASubpredictor, ChunkSubpredictor\n",
    "from divide_and_conquer_sentiment.subprediction.sentence import Chunker\n",
    "from divide_and_conquer_sentiment.model import DACSModel\n",
    "\n",
    "from divide_and_conquer_sentiment.evaluation import (\n",
    "    model_dataset_comparison,\n",
    "    plot_metrics_per_token_count_bins,\n",
    "    simple_classification_report,\n",
    ")"
   ],
   "outputs": [],
   "execution_count": 21
  },
  {
   "cell_type": "code",
   "id": "2b432a6c063a1885",
   "metadata": {
    "ExecuteTime": {
     "end_time": "2025-01-19T22:08:56.684251Z",
     "start_time": "2025-01-19T22:08:56.645271Z"
    }
   },
   "source": [
    "%load_ext autoreload\n",
    "%autoreload 2"
   ],
   "outputs": [],
   "execution_count": 3
  },
  {
   "cell_type": "code",
   "id": "faa1e20122bf27bd",
   "metadata": {
    "ExecuteTime": {
     "end_time": "2025-01-19T22:08:57.642189Z",
     "start_time": "2025-01-19T22:08:57.613418Z"
    }
   },
   "source": [
    "TRAIN_BATCH_SIZE = 256"
   ],
   "outputs": [],
   "execution_count": 4
  },
  {
   "cell_type": "markdown",
   "id": "ff712958babaf012",
   "metadata": {},
   "source": [
    "# Read & prepare dataset\n"
   ]
  },
  {
   "cell_type": "code",
   "id": "3610118f8cad69f",
   "metadata": {
    "ExecuteTime": {
     "end_time": "2025-01-19T22:11:05.804983Z",
     "start_time": "2025-01-19T22:11:02.615585Z"
    }
   },
   "source": [
    "twitter_airlines_dataset = load_kaggle_dataset(\n",
    "    \"crowdflower/twitter-airline-sentiment\",\n",
    "    {\"text\": \"text\", \"airline_sentiment\": \"label\"},\n",
    "    val_test_perc=(0.1, 0.2),\n",
    "    seed=42,\n",
    ")"
   ],
   "outputs": [
    {
     "name": "stdout",
     "output_type": "stream",
     "text": [
      "Dataset URL: https://www.kaggle.com/datasets/crowdflower/twitter-airline-sentiment\n"
     ]
    },
    {
     "name": "stderr",
     "output_type": "stream",
     "text": [
      "/Users/pawel.marcinkowski/.pyenv/versions/venv-spacy/lib/python3.10/site-packages/kaggle/api_client.py:165: DeprecationWarning: HTTPResponse.getheaders() is deprecated and will be removed in urllib3 v2.1.0. Instead access HTTPResponse.headers directly.\n",
      "  response_data.getheaders())\n"
     ]
    },
    {
     "data": {
      "text/plain": [
       "Generating train split: 0 examples [00:00, ? examples/s]"
      ],
      "application/vnd.jupyter.widget-view+json": {
       "version_major": 2,
       "version_minor": 0,
       "model_id": "3dad1c01b4ea41c3a7877dd71657095f"
      }
     },
     "metadata": {},
     "output_type": "display_data"
    },
    {
     "data": {
      "text/plain": [
       "Map:   0%|          | 0/14640 [00:00<?, ? examples/s]"
      ],
      "application/vnd.jupyter.widget-view+json": {
       "version_major": 2,
       "version_minor": 0,
       "model_id": "2b9c78c88b244f149740a32f60c1732f"
      }
     },
     "metadata": {},
     "output_type": "display_data"
    },
    {
     "data": {
      "text/plain": [
       "Map:   0%|          | 0/14640 [00:00<?, ? examples/s]"
      ],
      "application/vnd.jupyter.widget-view+json": {
       "version_major": 2,
       "version_minor": 0,
       "model_id": "2bc46ee9f1d94d4ba060c054de92b4e3"
      }
     },
     "metadata": {},
     "output_type": "display_data"
    },
    {
     "data": {
      "text/plain": [
       "Casting the dataset:   0%|          | 0/14640 [00:00<?, ? examples/s]"
      ],
      "application/vnd.jupyter.widget-view+json": {
       "version_major": 2,
       "version_minor": 0,
       "model_id": "33e5153c9f5d48c6a42b59852b89037e"
      }
     },
     "metadata": {},
     "output_type": "display_data"
    }
   ],
   "execution_count": 5
  },
  {
   "cell_type": "code",
   "id": "cc1b1e72fd962a7e",
   "metadata": {
    "ExecuteTime": {
     "end_time": "2025-01-19T22:11:10.273115Z",
     "start_time": "2025-01-19T22:11:07.554757Z"
    }
   },
   "source": [
    "amazon_headphones_dataset = load_kaggle_dataset(\n",
    "    \"mdwaquarazam/headphone-dataset-review-analysis\",\n",
    "    {\"COMMENTS\": \"text\", \"RATINGS\": \"label\"},\n",
    "    val_test_perc=(0.1, 0.2),\n",
    "    seed=42,\n",
    ")"
   ],
   "outputs": [
    {
     "name": "stdout",
     "output_type": "stream",
     "text": [
      "Dataset URL: https://www.kaggle.com/datasets/mdwaquarazam/headphone-dataset-review-analysis\n"
     ]
    },
    {
     "name": "stderr",
     "output_type": "stream",
     "text": [
      "/Users/pawel.marcinkowski/.pyenv/versions/venv-spacy/lib/python3.10/site-packages/kaggle/api_client.py:165: DeprecationWarning: HTTPResponse.getheaders() is deprecated and will be removed in urllib3 v2.1.0. Instead access HTTPResponse.headers directly.\n",
      "  response_data.getheaders())\n"
     ]
    },
    {
     "data": {
      "text/plain": [
       "Generating train split: 0 examples [00:00, ? examples/s]"
      ],
      "application/vnd.jupyter.widget-view+json": {
       "version_major": 2,
       "version_minor": 0,
       "model_id": "0db4f2ebc435434193e133eab4d34046"
      }
     },
     "metadata": {},
     "output_type": "display_data"
    },
    {
     "data": {
      "text/plain": [
       "Map:   0%|          | 0/1604 [00:00<?, ? examples/s]"
      ],
      "application/vnd.jupyter.widget-view+json": {
       "version_major": 2,
       "version_minor": 0,
       "model_id": "0ebfa17194734259bc14645914f93d6c"
      }
     },
     "metadata": {},
     "output_type": "display_data"
    },
    {
     "data": {
      "text/plain": [
       "Map:   0%|          | 0/1604 [00:00<?, ? examples/s]"
      ],
      "application/vnd.jupyter.widget-view+json": {
       "version_major": 2,
       "version_minor": 0,
       "model_id": "20d90ddbb60145398e9e7f0f57e734ad"
      }
     },
     "metadata": {},
     "output_type": "display_data"
    },
    {
     "data": {
      "text/plain": [
       "Casting the dataset:   0%|          | 0/1604 [00:00<?, ? examples/s]"
      ],
      "application/vnd.jupyter.widget-view+json": {
       "version_major": 2,
       "version_minor": 0,
       "model_id": "23e02570e6904dfcb785499cca45cc9a"
      }
     },
     "metadata": {},
     "output_type": "display_data"
    }
   ],
   "execution_count": 6
  },
  {
   "cell_type": "code",
   "id": "209f653d6979f8f4",
   "metadata": {
    "ExecuteTime": {
     "end_time": "2025-01-19T22:11:13.196887Z",
     "start_time": "2025-01-19T22:11:10.276404Z"
    }
   },
   "source": [
    "SST_LABEL_MAP = {0: 0, 1: 0, 2: 1, 3: 2, 4: 2}\n",
    "\n",
    "\n",
    "def map_sst_label(x):\n",
    "    x[\"label\"] = SST_LABEL_MAP[x[\"label\"]]\n",
    "    return x\n",
    "\n",
    "\n",
    "sst_dataset = (\n",
    "    load_dataset(\"SetFit/sst5\")\n",
    "    .remove_columns([\"label_text\"])\n",
    "    .map(map_sst_label)\n",
    "    .cast_column(\"label\", ClassLabel(names=[\"negative\", \"neutral\", \"positive\"]))\n",
    ")"
   ],
   "outputs": [
    {
     "name": "stderr",
     "output_type": "stream",
     "text": [
      "Repo card metadata block was not found. Setting CardData to empty.\n",
      "WARNING:huggingface_hub.repocard:Repo card metadata block was not found. Setting CardData to empty.\n"
     ]
    }
   ],
   "execution_count": 7
  },
  {
   "cell_type": "code",
   "id": "be04d10a49369b91",
   "metadata": {
    "ExecuteTime": {
     "end_time": "2025-01-19T22:11:13.244315Z",
     "start_time": "2025-01-19T22:11:13.207685Z"
    }
   },
   "source": [
    "train_dataset = concatenate_datasets(\n",
    "    [twitter_airlines_dataset[\"train\"], amazon_headphones_dataset[\"train\"], sst_dataset[\"train\"]]\n",
    ")\n",
    "val_dataset = concatenate_datasets(\n",
    "    [twitter_airlines_dataset[\"val\"], amazon_headphones_dataset[\"val\"], sst_dataset[\"validation\"]]\n",
    ")\n",
    "test_dataset = concatenate_datasets(\n",
    "    [twitter_airlines_dataset[\"test\"], amazon_headphones_dataset[\"test\"], sst_dataset[\"test\"]]\n",
    ")"
   ],
   "outputs": [],
   "execution_count": 8
  },
  {
   "metadata": {
    "ExecuteTime": {
     "end_time": "2025-01-19T22:11:34.458847Z",
     "start_time": "2025-01-19T22:11:21.441926Z"
    }
   },
   "cell_type": "code",
   "source": [
    "for i in range(len(val_dataset[\"text\"])):\n",
    "    if val_dataset[\"text\"][i] == \"\":\n",
    "        print(val_dataset[i])"
   ],
   "id": "3f0a84e850d538e3",
   "outputs": [
    {
     "name": "stdout",
     "output_type": "stream",
     "text": [
      "{'text': '', 'label': 2}\n",
      "{'text': '', 'label': 0}\n",
      "{'text': '', 'label': 2}\n",
      "{'text': '', 'label': 0}\n",
      "{'text': '', 'label': 2}\n",
      "{'text': '', 'label': 2}\n"
     ]
    }
   ],
   "execution_count": 9
  },
  {
   "cell_type": "markdown",
   "id": "ab5e8cdbd19af4bf",
   "metadata": {},
   "source": [
    "\n",
    "# Train MLP on ABSA model"
   ]
  },
  {
   "cell_type": "code",
   "id": "c1b785e34467af40",
   "metadata": {},
   "source": [
    "!spacy download en_core_web_lg"
   ],
   "outputs": [],
   "execution_count": null
  },
  {
   "metadata": {},
   "cell_type": "code",
   "source": [
    "subpredictor = ABSASubpredictor.from_pretrained(\n",
    "    \"tomaarsen/setfit-absa-bge-small-en-v1.5-restaurants-aspect\",\n",
    "    \"tomaarsen/setfit-absa-bge-small-en-v1.5-restaurants-polarity\",\n",
    "    spacy_model=\"en_core_web_lg\",\n",
    ")\n",
    "mlp = MLP(input_size=4, output_size=3, hidden_layer_sizes=(128, 64), lr=0.01)\n",
    "aggregator = MLPAggregator(mlp)"
   ],
   "id": "db6031cba0d99b34",
   "outputs": [],
   "execution_count": null
  },
  {
   "cell_type": "code",
   "id": "4a8dff3dc1d7f21",
   "metadata": {},
   "source": [
    "train_subpreds = subpredictor.predict(train_dataset[\"text\"])\n",
    "val_subpreds = subpredictor.predict(val_dataset[\"text\"])"
   ],
   "outputs": [],
   "execution_count": null
  },
  {
   "cell_type": "code",
   "id": "b82b385f-a2d7-46c1-bfe1-7828eb7e016e",
   "metadata": {},
   "source": [
    "train_dataset = concatenate_datasets([train_dataset, Dataset.from_dict({\"subpreds\": train_subpreds})], axis=1)\n",
    "val_dataset = concatenate_datasets([val_dataset, Dataset.from_dict({\"subpreds\": val_subpreds})], axis=1)"
   ],
   "outputs": [],
   "execution_count": null
  },
  {
   "cell_type": "code",
   "id": "86f31192-887f-4c64-b414-250ce05e148b",
   "metadata": {},
   "source": [
    "with open(\"train_dataset_subpreds.pkl\", \"wb\") as handle:\n",
    "    pickle.dump(train_dataset, handle)\n",
    "\n",
    "with open(\"val_dataset_subpreds.pkl\", \"wb\") as handle:\n",
    "    pickle.dump(val_dataset, handle)"
   ],
   "outputs": [],
   "execution_count": null
  },
  {
   "cell_type": "code",
   "id": "4a2bf7a4293776e7",
   "metadata": {},
   "source": [
    "with open(\"train_dataset_subpreds.pkl\", \"rb\") as handle:\n",
    "    train_dataset = pickle.load(handle).with_format(\"torch\")\n",
    "\n",
    "with open(\"val_dataset_subpreds.pkl\", \"rb\") as handle:\n",
    "    val_dataset = pickle.load(handle).with_format(\"torch\")"
   ],
   "outputs": [],
   "execution_count": null
  },
  {
   "cell_type": "code",
   "id": "274a9511d286d246",
   "metadata": {},
   "source": [
    "aggregator.train(train_dataset, val_dataset)"
   ],
   "outputs": [],
   "execution_count": null
  },
  {
   "metadata": {},
   "cell_type": "markdown",
   "source": "# Calc SAWON",
   "id": "8e024301c4bf1972"
  },
  {
   "metadata": {},
   "cell_type": "markdown",
   "source": "## Train",
   "id": "d5af5bed552692e5"
  },
  {
   "metadata": {},
   "cell_type": "code",
   "source": "!spacy download en_core_web_lg",
   "id": "e3b5ddb17a70fd93",
   "outputs": [],
   "execution_count": null
  },
  {
   "metadata": {
    "ExecuteTime": {
     "end_time": "2025-01-19T22:12:00.458892Z",
     "start_time": "2025-01-19T22:11:47.343751Z"
    }
   },
   "cell_type": "code",
   "source": [
    "polarity_model = AbsaModel.from_pretrained(\n",
    "    \"tomaarsen/setfit-absa-bge-small-en-v1.5-restaurants-polarity\",\n",
    "    spacy_model=\"en_core_web_lg\",\n",
    ").polarity_model"
   ],
   "id": "8c0bf0c1460aa80e",
   "outputs": [
    {
     "name": "stderr",
     "output_type": "stream",
     "text": [
      "INFO:sentence_transformers.SentenceTransformer:Use pytorch device_name: mps\n",
      "INFO:sentence_transformers.SentenceTransformer:Load pretrained SentenceTransformer: tomaarsen/setfit-absa-bge-small-en-v1.5-restaurants-polarity\n",
      "Overriding labels in model configuration from None to ['no aspect', 'aspect'].\n",
      "/Users/pawel.marcinkowski/.pyenv/versions/venv-spacy/lib/python3.10/site-packages/sklearn/base.py:380: InconsistentVersionWarning: Trying to unpickle estimator LogisticRegression from version 1.3.2 when using version 1.6.0. This might lead to breaking code or invalid results. Use at your own risk. For more info please refer to:\n",
      "https://scikit-learn.org/stable/model_persistence.html#security-maintainability-limitations\n",
      "  warnings.warn(\n",
      "INFO:sentence_transformers.SentenceTransformer:Use pytorch device_name: mps\n",
      "INFO:sentence_transformers.SentenceTransformer:Load pretrained SentenceTransformer: tomaarsen/setfit-absa-bge-small-en-v1.5-restaurants-polarity\n"
     ]
    }
   ],
   "execution_count": 10
  },
  {
   "metadata": {
    "ExecuteTime": {
     "end_time": "2025-01-19T22:12:20.836730Z",
     "start_time": "2025-01-19T22:12:20.804720Z"
    }
   },
   "cell_type": "code",
   "source": "polarity_sentiment_model = PolaritySentimentModel(polarity_model)",
   "id": "5010cdf75e295f55",
   "outputs": [],
   "execution_count": 11
  },
  {
   "metadata": {
    "ExecuteTime": {
     "end_time": "2025-01-19T22:12:22.230486Z",
     "start_time": "2025-01-19T22:12:21.878771Z"
    }
   },
   "cell_type": "code",
   "source": [
    "chunker = Chunker()\n",
    "sentence_subpredictor = ChunkSubpredictor(chunker, polarity_sentiment_model)"
   ],
   "id": "cd52fd5a3757daf3",
   "outputs": [],
   "execution_count": 12
  },
  {
   "metadata": {
    "ExecuteTime": {
     "end_time": "2025-01-19T22:27:44.895216Z",
     "start_time": "2025-01-19T22:12:23.650818Z"
    }
   },
   "cell_type": "code",
   "source": "sentences_train_subpreds = sentence_subpredictor.predict(train_dataset[\"text\"])",
   "id": "8a8346a1856d748a",
   "outputs": [
    {
     "name": "stdout",
     "output_type": "stream",
     "text": [
      "WARNING, For text: , splitting into sentences failed. Returned list with 1 empty string\n",
      "WARNING, For text: , splitting into sentences failed. Returned list with 1 empty string\n",
      "WARNING, For text: , splitting into sentences failed. Returned list with 1 empty string\n",
      "WARNING, For text: , splitting into sentences failed. Returned list with 1 empty string\n",
      "WARNING, For text: , splitting into sentences failed. Returned list with 1 empty string\n",
      "WARNING, For text: , splitting into sentences failed. Returned list with 1 empty string\n",
      "WARNING, For text: , splitting into sentences failed. Returned list with 1 empty string\n",
      "WARNING, For text: , splitting into sentences failed. Returned list with 1 empty string\n",
      "WARNING, For text: , splitting into sentences failed. Returned list with 1 empty string\n",
      "WARNING, For text: , splitting into sentences failed. Returned list with 1 empty string\n",
      "WARNING, For text: , splitting into sentences failed. Returned list with 1 empty string\n",
      "WARNING, For text: , splitting into sentences failed. Returned list with 1 empty string\n",
      "WARNING, For text: , splitting into sentences failed. Returned list with 1 empty string\n",
      "WARNING, For text: , splitting into sentences failed. Returned list with 1 empty string\n",
      "WARNING, For text: , splitting into sentences failed. Returned list with 1 empty string\n",
      "WARNING, For text: , splitting into sentences failed. Returned list with 1 empty string\n",
      "WARNING, For text: , splitting into sentences failed. Returned list with 1 empty string\n",
      "WARNING, For text: , splitting into sentences failed. Returned list with 1 empty string\n",
      "WARNING, For text: , splitting into sentences failed. Returned list with 1 empty string\n",
      "WARNING, For text: , splitting into sentences failed. Returned list with 1 empty string\n",
      "WARNING, For text: , splitting into sentences failed. Returned list with 1 empty string\n",
      "WARNING, For text: , splitting into sentences failed. Returned list with 1 empty string\n",
      "WARNING, For text: , splitting into sentences failed. Returned list with 1 empty string\n",
      "WARNING, For text: , splitting into sentences failed. Returned list with 1 empty string\n",
      "WARNING, For text: , splitting into sentences failed. Returned list with 1 empty string\n",
      "WARNING, For text: , splitting into sentences failed. Returned list with 1 empty string\n",
      "WARNING, For text: , splitting into sentences failed. Returned list with 1 empty string\n",
      "WARNING, For text: , splitting into sentences failed. Returned list with 1 empty string\n",
      "WARNING, For text: , splitting into sentences failed. Returned list with 1 empty string\n",
      "WARNING, For text: , splitting into sentences failed. Returned list with 1 empty string\n",
      "WARNING, For text: , splitting into sentences failed. Returned list with 1 empty string\n",
      "WARNING, For text: , splitting into sentences failed. Returned list with 1 empty string\n",
      "WARNING, For text: , splitting into sentences failed. Returned list with 1 empty string\n",
      "WARNING, For text: , splitting into sentences failed. Returned list with 1 empty string\n",
      "WARNING, For text: , splitting into sentences failed. Returned list with 1 empty string\n",
      "WARNING, For text: , splitting into sentences failed. Returned list with 1 empty string\n",
      "WARNING, For text: , splitting into sentences failed. Returned list with 1 empty string\n",
      "WARNING, For text: , splitting into sentences failed. Returned list with 1 empty string\n",
      "WARNING, For text: , splitting into sentences failed. Returned list with 1 empty string\n",
      "WARNING, For text: , splitting into sentences failed. Returned list with 1 empty string\n"
     ]
    }
   ],
   "execution_count": 13
  },
  {
   "metadata": {
    "ExecuteTime": {
     "end_time": "2025-01-19T22:41:57.807700Z",
     "start_time": "2025-01-19T22:39:26.625256Z"
    }
   },
   "cell_type": "code",
   "source": "sentences_val_subpreds = sentence_subpredictor.predict(val_dataset[\"text\"])",
   "id": "86c9b12f9ce2a6ef",
   "outputs": [
    {
     "name": "stdout",
     "output_type": "stream",
     "text": [
      "WARNING, For text: , splitting into sentences failed. Returned list with 1 empty string\n",
      "WARNING, For text: , splitting into sentences failed. Returned list with 1 empty string\n",
      "WARNING, For text: , splitting into sentences failed. Returned list with 1 empty string\n",
      "WARNING, For text: , splitting into sentences failed. Returned list with 1 empty string\n",
      "WARNING, For text: , splitting into sentences failed. Returned list with 1 empty string\n",
      "WARNING, For text: , splitting into sentences failed. Returned list with 1 empty string\n"
     ]
    }
   ],
   "execution_count": 14
  },
  {
   "metadata": {
    "ExecuteTime": {
     "end_time": "2025-01-19T22:42:38.344966Z",
     "start_time": "2025-01-19T22:42:37.231178Z"
    }
   },
   "cell_type": "code",
   "source": [
    "with open(\"sentences_train_subpreds.pkl\", \"wb\") as handle:\n",
    "    pickle.dump(sentences_train_subpreds, handle)\n",
    "\n",
    "with open(\"sentences_val_subpreds.pkl\", \"wb\") as handle:\n",
    "    pickle.dump(sentences_val_subpreds, handle)"
   ],
   "id": "8ab7aa46a4d2e351",
   "outputs": [],
   "execution_count": 15
  },
  {
   "metadata": {
    "ExecuteTime": {
     "end_time": "2025-01-19T22:42:48.482303Z",
     "start_time": "2025-01-19T22:42:48.449194Z"
    }
   },
   "cell_type": "code",
   "source": "sawon = SawonAggregator(polarity_sentiment_model,0.9)",
   "id": "81b63d5a92aba0df",
   "outputs": [],
   "execution_count": 16
  },
  {
   "metadata": {
    "ExecuteTime": {
     "end_time": "2025-01-19T22:44:25.501144Z",
     "start_time": "2025-01-19T22:43:05.246081Z"
    }
   },
   "cell_type": "code",
   "source": "sawon_train_preds = sawon.aggregate(sentences_train_subpreds, passages =  train_dataset[\"text\"])",
   "id": "b150b4492ccb3ca6",
   "outputs": [],
   "execution_count": 17
  },
  {
   "metadata": {
    "ExecuteTime": {
     "end_time": "2025-01-19T22:45:13.323251Z",
     "start_time": "2025-01-19T22:45:04.686984Z"
    }
   },
   "cell_type": "code",
   "source": "sawon_val_preds = sawon.aggregate(sentences_val_subpreds, passages = val_dataset[\"text\"])",
   "id": "b3e8f332f68edb80",
   "outputs": [],
   "execution_count": 18
  },
  {
   "metadata": {},
   "cell_type": "markdown",
   "source": "## Evaluate",
   "id": "8104220fb0f310db"
  },
  {
   "metadata": {
    "ExecuteTime": {
     "end_time": "2025-01-19T23:05:08.659016Z",
     "start_time": "2025-01-19T23:05:08.621521Z"
    }
   },
   "cell_type": "code",
   "source": "dacs_sawon = DACSModel(sentence_subpredictor, sawon)",
   "id": "725168f213e55714",
   "outputs": [],
   "execution_count": 22
  },
  {
   "metadata": {
    "ExecuteTime": {
     "end_time": "2025-01-19T23:16:26.409600Z",
     "start_time": "2025-01-19T23:10:37.370244Z"
    }
   },
   "cell_type": "code",
   "source": [
    "twitter_test_dacs_sawon_preds = dacs_sawon.predict(twitter_airlines_dataset[\"test\"][\"text\"], passages =  twitter_airlines_dataset[\"test\"][\"text\"])\n",
    "amazon_test_dacs_sawon_preds = dacs_sawon.predict(amazon_headphones_dataset[\"test\"][\"text\"], passages =  amazon_headphones_dataset[\"test\"][\"text\"])\n",
    "sst_test_dacs_sawon_preds = dacs_sawon.predict(sst_dataset[\"test\"][\"text\"], passages =  sst_dataset[\"test\"][\"text\"])"
   ],
   "id": "c67d2e724b54ccb0",
   "outputs": [
    {
     "name": "stdout",
     "output_type": "stream",
     "text": [
      "WARNING, For text: , splitting into sentences failed. Returned list with 1 empty string\n",
      "WARNING, For text: , splitting into sentences failed. Returned list with 1 empty string\n",
      "WARNING, For text: , splitting into sentences failed. Returned list with 1 empty string\n",
      "WARNING, For text: , splitting into sentences failed. Returned list with 1 empty string\n",
      "WARNING, For text: , splitting into sentences failed. Returned list with 1 empty string\n",
      "WARNING, For text: , splitting into sentences failed. Returned list with 1 empty string\n",
      "WARNING, For text: , splitting into sentences failed. Returned list with 1 empty string\n",
      "WARNING, For text: , splitting into sentences failed. Returned list with 1 empty string\n",
      "WARNING, For text: , splitting into sentences failed. Returned list with 1 empty string\n",
      "WARNING, For text: , splitting into sentences failed. Returned list with 1 empty string\n",
      "WARNING, For text: , splitting into sentences failed. Returned list with 1 empty string\n",
      "WARNING, For text: , splitting into sentences failed. Returned list with 1 empty string\n"
     ]
    }
   ],
   "execution_count": 23
  },
  {
   "metadata": {
    "ExecuteTime": {
     "end_time": "2025-01-19T23:52:26.659294Z",
     "start_time": "2025-01-19T23:52:26.394499Z"
    }
   },
   "cell_type": "code",
   "source": "type(twitter_airlines_dataset[\"test\"][\"label\"][0])",
   "id": "b5c7f99fdfb9346b",
   "outputs": [
    {
     "data": {
      "text/plain": [
       "int"
      ]
     },
     "execution_count": 27,
     "metadata": {},
     "output_type": "execute_result"
    }
   ],
   "execution_count": 27
  },
  {
   "metadata": {
    "ExecuteTime": {
     "end_time": "2025-01-19T23:16:31.507211Z",
     "start_time": "2025-01-19T23:16:31.360189Z"
    }
   },
   "cell_type": "code",
   "source": [
    "print(simple_classification_report(twitter_airlines_dataset[\"test\"][\"label\"], twitter_test_dacs_sawon_preds))\n",
    "print(simple_classification_report(amazon_headphones_dataset[\"test\"][\"label\"], amazon_test_dacs_sawon_preds))\n",
    "print(simple_classification_report(sst_dataset[\"test\"][\"label\"], sst_test_dacs_sawon_preds))"
   ],
   "id": "b91de67f61293dd5",
   "outputs": [
    {
     "ename": "ValueError",
     "evalue": "Unknown label values",
     "output_type": "error",
     "traceback": [
      "\u001B[0;31m---------------------------------------------------------------------------\u001B[0m",
      "\u001B[0;31mValueError\u001B[0m                                Traceback (most recent call last)",
      "Cell \u001B[0;32mIn[24], line 1\u001B[0m\n\u001B[0;32m----> 1\u001B[0m \u001B[38;5;28mprint\u001B[39m(\u001B[43msimple_classification_report\u001B[49m\u001B[43m(\u001B[49m\u001B[43mtwitter_airlines_dataset\u001B[49m\u001B[43m[\u001B[49m\u001B[38;5;124;43m\"\u001B[39;49m\u001B[38;5;124;43mtest\u001B[39;49m\u001B[38;5;124;43m\"\u001B[39;49m\u001B[43m]\u001B[49m\u001B[43m[\u001B[49m\u001B[38;5;124;43m\"\u001B[39;49m\u001B[38;5;124;43mlabel\u001B[39;49m\u001B[38;5;124;43m\"\u001B[39;49m\u001B[43m]\u001B[49m\u001B[43m,\u001B[49m\u001B[43m \u001B[49m\u001B[43mtwitter_test_dacs_sawon_preds\u001B[49m\u001B[43m)\u001B[49m)\n\u001B[1;32m      2\u001B[0m \u001B[38;5;28mprint\u001B[39m(simple_classification_report(amazon_headphones_dataset[\u001B[38;5;124m\"\u001B[39m\u001B[38;5;124mtest\u001B[39m\u001B[38;5;124m\"\u001B[39m][\u001B[38;5;124m\"\u001B[39m\u001B[38;5;124mlabel\u001B[39m\u001B[38;5;124m\"\u001B[39m], amazon_test_dacs_sawon_preds))\n\u001B[1;32m      3\u001B[0m \u001B[38;5;28mprint\u001B[39m(simple_classification_report(sst_dataset[\u001B[38;5;124m\"\u001B[39m\u001B[38;5;124mtest\u001B[39m\u001B[38;5;124m\"\u001B[39m][\u001B[38;5;124m\"\u001B[39m\u001B[38;5;124mlabel\u001B[39m\u001B[38;5;124m\"\u001B[39m], sst_test_dacs_sawon_preds))\n",
      "File \u001B[0;32m~/Repos/NLU/divide-and-conquer-sentiment/src/divide_and_conquer_sentiment/evaluation.py:18\u001B[0m, in \u001B[0;36msimple_classification_report\u001B[0;34m(y_true, y_pred, **kwargs)\u001B[0m\n\u001B[1;32m     17\u001B[0m \u001B[38;5;28;01mdef\u001B[39;00m \u001B[38;5;21msimple_classification_report\u001B[39m(y_true: ArrayLike, y_pred: ArrayLike, \u001B[38;5;241m*\u001B[39m\u001B[38;5;241m*\u001B[39mkwargs):\n\u001B[0;32m---> 18\u001B[0m     \u001B[38;5;28;01mreturn\u001B[39;00m classification_report(_coerce_list(y_true), \u001B[43m_coerce_list\u001B[49m\u001B[43m(\u001B[49m\u001B[43my_pred\u001B[49m\u001B[43m)\u001B[49m, \u001B[38;5;241m*\u001B[39m\u001B[38;5;241m*\u001B[39mkwargs)\n",
      "File \u001B[0;32m~/Repos/NLU/divide-and-conquer-sentiment/src/divide_and_conquer_sentiment/evaluation.py:42\u001B[0m, in \u001B[0;36m_coerce_list\u001B[0;34m(values)\u001B[0m\n\u001B[1;32m     40\u001B[0m     \u001B[38;5;28;01mreturn\u001B[39;00m values\n\u001B[1;32m     41\u001B[0m \u001B[38;5;28;01melse\u001B[39;00m:\n\u001B[0;32m---> 42\u001B[0m     \u001B[38;5;28;01mraise\u001B[39;00m \u001B[38;5;167;01mValueError\u001B[39;00m(\u001B[38;5;124m\"\u001B[39m\u001B[38;5;124mUnknown label values\u001B[39m\u001B[38;5;124m\"\u001B[39m)\n",
      "\u001B[0;31mValueError\u001B[0m: Unknown label values"
     ]
    }
   ],
   "execution_count": 24
  },
  {
   "metadata": {},
   "cell_type": "markdown",
   "source": "# Train MLP on sentences",
   "id": "a23f465ab9f17345"
  },
  {
   "metadata": {
    "ExecuteTime": {
     "end_time": "2025-01-19T23:53:37.615067Z",
     "start_time": "2025-01-19T23:53:37.474029Z"
    }
   },
   "cell_type": "code",
   "source": [
    "mlp_sentences = MLP(input_size=3, output_size=3, hidden_layer_sizes=(128, 64), lr=0.01)\n",
    "mlp_aggregator_sentences = MLPAggregator(mlp_sentences)"
   ],
   "id": "a9b4a95d89c46de7",
   "outputs": [
    {
     "name": "stderr",
     "output_type": "stream",
     "text": [
      "GPU available: True (mps), used: True\n",
      "TPU available: False, using: 0 TPU cores\n",
      "HPU available: False, using: 0 HPUs\n",
      "/Users/pawel.marcinkowski/.pyenv/versions/venv-spacy/lib/python3.10/site-packages/lightning/pytorch/trainer/connectors/logger_connector/logger_connector.py:76: Starting from v1.9.0, `tensorboardX` has been removed as a dependency of the `lightning.pytorch` package, due to potential conflicts with other packages in the ML ecosystem. For this reason, `logger=True` will use `CSVLogger` as the default logger, unless the `tensorboard` or `tensorboardX` packages are found. Please `pip install lightning[extra]` or one of them to enable TensorBoard support by default\n"
     ]
    }
   ],
   "execution_count": 28
  },
  {
   "metadata": {
    "ExecuteTime": {
     "end_time": "2025-01-19T23:53:40.558164Z",
     "start_time": "2025-01-19T23:53:39.856769Z"
    }
   },
   "cell_type": "code",
   "source": [
    "train_sentences_dataset = concatenate_datasets([train_dataset, Dataset.from_dict({\"subpreds\": sentences_train_subpreds})], axis=1)\n",
    "val_sentences_dataset = concatenate_datasets([val_dataset, Dataset.from_dict({\"subpreds\": sentences_val_subpreds})], axis=1)"
   ],
   "id": "bd2b30fba7b1a544",
   "outputs": [
    {
     "data": {
      "text/plain": [
       "Flattening the indices:   0%|          | 0/19914 [00:00<?, ? examples/s]"
      ],
      "application/vnd.jupyter.widget-view+json": {
       "version_major": 2,
       "version_minor": 0,
       "model_id": "58e295d65fe245b7b2e66b2e260f9916"
      }
     },
     "metadata": {},
     "output_type": "display_data"
    },
    {
     "data": {
      "text/plain": [
       "Flattening the indices:   0%|          | 0/19914 [00:00<?, ? examples/s]"
      ],
      "application/vnd.jupyter.widget-view+json": {
       "version_major": 2,
       "version_minor": 0,
       "model_id": "6e6c6add710f454fa7a7cf8e42de9276"
      }
     },
     "metadata": {},
     "output_type": "display_data"
    },
    {
     "data": {
      "text/plain": [
       "Flattening the indices:   0%|          | 0/2726 [00:00<?, ? examples/s]"
      ],
      "application/vnd.jupyter.widget-view+json": {
       "version_major": 2,
       "version_minor": 0,
       "model_id": "215d2f3b620b473797c2a068d627adef"
      }
     },
     "metadata": {},
     "output_type": "display_data"
    },
    {
     "data": {
      "text/plain": [
       "Flattening the indices:   0%|          | 0/2726 [00:00<?, ? examples/s]"
      ],
      "application/vnd.jupyter.widget-view+json": {
       "version_major": 2,
       "version_minor": 0,
       "model_id": "9665d9d4480e41eeb87ed8d5bf8f707a"
      }
     },
     "metadata": {},
     "output_type": "display_data"
    }
   ],
   "execution_count": 29
  },
  {
   "metadata": {
    "ExecuteTime": {
     "end_time": "2025-01-19T23:57:53.694470Z",
     "start_time": "2025-01-19T23:53:45.308008Z"
    }
   },
   "cell_type": "code",
   "source": "mlp_aggregator_sentences.train(train_sentences_dataset, val_sentences_dataset)",
   "id": "d27d9634f500240c",
   "outputs": [
    {
     "name": "stderr",
     "output_type": "stream",
     "text": [
      "/Users/pawel.marcinkowski/.pyenv/versions/venv-spacy/lib/python3.10/site-packages/lightning/pytorch/loops/utilities.py:73: `max_epochs` was not set. Setting it to 1000 epochs. To train without an epoch limit, set `max_epochs=-1`.\n",
      "\n",
      "  | Name   | Type       | Params | Mode \n",
      "----------------------------------------------\n",
      "0 | layers | ModuleList | 10.6 K | train\n",
      "----------------------------------------------\n",
      "10.6 K    Trainable params\n",
      "0         Non-trainable params\n",
      "10.6 K    Total params\n",
      "0.043     Total estimated model params size (MB)\n",
      "4         Modules in train mode\n",
      "0         Modules in eval mode\n"
     ]
    },
    {
     "data": {
      "text/plain": [
       "Sanity Checking: |          | 0/? [00:00<?, ?it/s]"
      ],
      "application/vnd.jupyter.widget-view+json": {
       "version_major": 2,
       "version_minor": 0,
       "model_id": "203096e7de4c4931876be498ef935a3b"
      }
     },
     "metadata": {},
     "output_type": "display_data"
    },
    {
     "name": "stderr",
     "output_type": "stream",
     "text": [
      "/Users/pawel.marcinkowski/.pyenv/versions/venv-spacy/lib/python3.10/site-packages/lightning/pytorch/trainer/connectors/data_connector.py:425: The 'val_dataloader' does not have many workers which may be a bottleneck. Consider increasing the value of the `num_workers` argument` to `num_workers=9` in the `DataLoader` to improve performance.\n",
      "/Users/pawel.marcinkowski/.pyenv/versions/venv-spacy/lib/python3.10/site-packages/lightning/pytorch/trainer/connectors/data_connector.py:425: The 'train_dataloader' does not have many workers which may be a bottleneck. Consider increasing the value of the `num_workers` argument` to `num_workers=9` in the `DataLoader` to improve performance.\n"
     ]
    },
    {
     "data": {
      "text/plain": [
       "Training: |          | 0/? [00:00<?, ?it/s]"
      ],
      "application/vnd.jupyter.widget-view+json": {
       "version_major": 2,
       "version_minor": 0,
       "model_id": "9235a00229b54cc68cc8928ab230dcff"
      }
     },
     "metadata": {},
     "output_type": "display_data"
    },
    {
     "data": {
      "text/plain": [
       "Validation: |          | 0/? [00:00<?, ?it/s]"
      ],
      "application/vnd.jupyter.widget-view+json": {
       "version_major": 2,
       "version_minor": 0,
       "model_id": "313ac4e7727f4b258e20dea1fc40cd21"
      }
     },
     "metadata": {},
     "output_type": "display_data"
    },
    {
     "data": {
      "text/plain": [
       "Validation: |          | 0/? [00:00<?, ?it/s]"
      ],
      "application/vnd.jupyter.widget-view+json": {
       "version_major": 2,
       "version_minor": 0,
       "model_id": "bc55ff10855c4b91a030cca6405c3a4d"
      }
     },
     "metadata": {},
     "output_type": "display_data"
    },
    {
     "data": {
      "text/plain": [
       "Validation: |          | 0/? [00:00<?, ?it/s]"
      ],
      "application/vnd.jupyter.widget-view+json": {
       "version_major": 2,
       "version_minor": 0,
       "model_id": "f3be2e2903d74313b780b5801b6d4c63"
      }
     },
     "metadata": {},
     "output_type": "display_data"
    },
    {
     "data": {
      "text/plain": [
       "Validation: |          | 0/? [00:00<?, ?it/s]"
      ],
      "application/vnd.jupyter.widget-view+json": {
       "version_major": 2,
       "version_minor": 0,
       "model_id": "d7a49bc7c22d45a18e1291b4a7f09d3a"
      }
     },
     "metadata": {},
     "output_type": "display_data"
    },
    {
     "data": {
      "text/plain": [
       "Validation: |          | 0/? [00:00<?, ?it/s]"
      ],
      "application/vnd.jupyter.widget-view+json": {
       "version_major": 2,
       "version_minor": 0,
       "model_id": "5a9d6b4cc1334b97a572d8c2bb537624"
      }
     },
     "metadata": {},
     "output_type": "display_data"
    },
    {
     "data": {
      "text/plain": [
       "Validation: |          | 0/? [00:00<?, ?it/s]"
      ],
      "application/vnd.jupyter.widget-view+json": {
       "version_major": 2,
       "version_minor": 0,
       "model_id": "1d457b8eeb684d3ba6541ab310749bfa"
      }
     },
     "metadata": {},
     "output_type": "display_data"
    },
    {
     "data": {
      "text/plain": [
       "Validation: |          | 0/? [00:00<?, ?it/s]"
      ],
      "application/vnd.jupyter.widget-view+json": {
       "version_major": 2,
       "version_minor": 0,
       "model_id": "17c63f34b4614f7a90216f51b9719f41"
      }
     },
     "metadata": {},
     "output_type": "display_data"
    },
    {
     "data": {
      "text/plain": [
       "Validation: |          | 0/? [00:00<?, ?it/s]"
      ],
      "application/vnd.jupyter.widget-view+json": {
       "version_major": 2,
       "version_minor": 0,
       "model_id": "e7efc93101cf46bf8c5a6c9e842825e2"
      }
     },
     "metadata": {},
     "output_type": "display_data"
    }
   ],
   "execution_count": 30
  },
  {
   "metadata": {
    "ExecuteTime": {
     "end_time": "2025-01-20T08:37:28.895277Z",
     "start_time": "2025-01-20T08:37:28.861547Z"
    }
   },
   "cell_type": "code",
   "source": [
    "import torch\n",
    "pred = torch.tensor([[0.1, 0.2, 0.3]])\n",
    "type(torch.argmax(pred.squeeze()).item())"
   ],
   "id": "4bf48219a49c5a7c",
   "outputs": [
    {
     "data": {
      "text/plain": [
       "int"
      ]
     },
     "execution_count": 37,
     "metadata": {},
     "output_type": "execute_result"
    }
   ],
   "execution_count": 37
  },
  {
   "metadata": {
    "ExecuteTime": {
     "end_time": "2025-01-20T08:38:13.592973Z",
     "start_time": "2025-01-20T08:38:13.525046Z"
    }
   },
   "cell_type": "code",
   "source": "type(sst_dataset[\"test\"][\"label\"][0])",
   "id": "e9d66e1c5d32a7ca",
   "outputs": [
    {
     "data": {
      "text/plain": [
       "int"
      ]
     },
     "execution_count": 39,
     "metadata": {},
     "output_type": "execute_result"
    }
   ],
   "execution_count": 39
  },
  {
   "metadata": {},
   "cell_type": "code",
   "outputs": [],
   "execution_count": null,
   "source": "",
   "id": "700aef26a40b61c7"
  }
 ],
 "metadata": {
  "kernelspec": {
   "display_name": "Python 3 (ipykernel)",
   "language": "python",
   "name": "python3"
  },
  "language_info": {
   "codemirror_mode": {
    "name": "ipython",
    "version": 3
   },
   "file_extension": ".py",
   "mimetype": "text/x-python",
   "name": "python",
   "nbconvert_exporter": "python",
   "pygments_lexer": "ipython3",
   "version": "3.10.15"
  }
 },
 "nbformat": 4,
 "nbformat_minor": 5
}
